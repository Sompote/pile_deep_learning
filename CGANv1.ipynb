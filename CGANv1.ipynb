{
  "cells": [
    {
      "cell_type": "markdown",
      "metadata": {
        "id": "view-in-github",
        "colab_type": "text"
      },
      "source": [
        "<a href=\"https://colab.research.google.com/github/Sompote/pile_deep_learning/blob/main/CGANv1.ipynb\" target=\"_parent\"><img src=\"https://colab.research.google.com/assets/colab-badge.svg\" alt=\"Open In Colab\"/></a>"
      ]
    },
    {
      "cell_type": "code",
      "source": [
        "import pandas as pd\n",
        "import numpy as np\n",
        "import numpy\n",
        "from numpy import hstack\n",
        "import numpy as np\n",
        "from numpy import zeros\n",
        "from numpy import ones\n",
        "from numpy.random import rand\n",
        "from numpy.random import randn\n",
        "from keras.models import Sequential\n",
        "from keras import Input\n",
        "from keras.layers import Dense,LSTM, Reshape\n",
        "from matplotlib import pyplot\n",
        "import matplotlib.pyplot as plt\n",
        "from sklearn.preprocessing import StandardScaler, MinMaxScaler\n",
        "df = pd.read_excel(\"/content/pile.xlsx\", usecols=[0, 1], names=[\"X\", \"Y\"])\n",
        "\n",
        "def gen_conditon(n_input,con):\n",
        "    x_con=np.zeros((1,12,con.shape[0]))\n",
        "    x_con[0,:,0]=.2\n",
        "    return x_con\n",
        "\n",
        "\n",
        "x_data_real = np.array(df.values)\n",
        "scaler = MinMaxScaler()\n",
        "x_data_real = scaler.fit_transform(x_data_real)\n",
        "x_data=np.reshape(x_data_real,(1,x_data_real.shape[0],x_data_real.shape[1]))\n",
        "#add conditon into array\n",
        "con=np.array([5]) #add condition to array\n",
        "con_data=gen_conditon(n_input=1,con=con)\n",
        "x_data=np.concatenate((x_data, con_data),axis=2)\n",
        "n=x_data.shape[0]\n",
        "y_data = np.ones((n, 1))\n",
        "\n",
        "x_data.shape"
      ],
      "metadata": {
        "colab": {
          "base_uri": "https://localhost:8080/"
        },
        "id": "mj1MKB569MPU",
        "outputId": "b3e8e5a9-9ded-47ce-dd0b-ac66befd5de5"
      },
      "execution_count": 8,
      "outputs": [
        {
          "output_type": "execute_result",
          "data": {
            "text/plain": [
              "(1, 12, 3)"
            ]
          },
          "metadata": {},
          "execution_count": 8
        }
      ]
    },
    {
      "cell_type": "code",
      "source": [
        "x_data"
      ],
      "metadata": {
        "colab": {
          "base_uri": "https://localhost:8080/"
        },
        "id": "BYL6lZb662R7",
        "outputId": "9535ed5b-6051-4d4f-9341-1bb9ec00e3a3"
      },
      "execution_count": 9,
      "outputs": [
        {
          "output_type": "execute_result",
          "data": {
            "text/plain": [
              "array([[[0.        , 1.        , 0.2       ],\n",
              "        [0.08134872, 0.9730664 , 0.2       ],\n",
              "        [0.22033046, 0.92049546, 0.2       ],\n",
              "        [0.30372149, 0.90009122, 0.2       ],\n",
              "        [0.40040747, 0.8576984 , 0.2       ],\n",
              "        [0.50073473, 0.74828364, 0.2       ],\n",
              "        [0.58655163, 0.68323011, 0.2       ],\n",
              "        [0.68083665, 0.57371933, 0.2       ],\n",
              "        [0.7751117 , 0.49767152, 0.2       ],\n",
              "        [0.77515654, 0.29646166, 0.2       ],\n",
              "        [0.88153104, 0.17605262, 0.2       ],\n",
              "        [1.        , 0.        , 0.2       ]]])"
            ]
          },
          "metadata": {},
          "execution_count": 9
        }
      ]
    },
    {
      "cell_type": "code",
      "source": [
        "plt.scatter(x_data[0,:,0],x_data[0,:,1],label = 'Real Sample',color='navy')\n",
        "plt.legend(fontsize=10)\n",
        "plt.show()"
      ],
      "metadata": {
        "colab": {
          "base_uri": "https://localhost:8080/",
          "height": 430
        },
        "id": "1hVoQ9JVNOw3",
        "outputId": "f0720da2-4b3f-496a-edc3-b0dd4589c068"
      },
      "execution_count": 11,
      "outputs": [
        {
          "output_type": "display_data",
          "data": {
            "text/plain": [
              "<Figure size 640x480 with 1 Axes>"
            ],
            "image/png": "[encoded data removed]"
          },
          "metadata": {}
        }
      ]
    },
    {
      "cell_type": "code",
      "source": [
        "x_data_real.shape"
      ],
      "metadata": {
        "colab": {
          "base_uri": "https://localhost:8080/"
        },
        "id": "LP_bNSRxAROh",
        "outputId": "67de2adf-5189-4aad-e643-73a80d5df55c"
      },
      "execution_count": null,
      "outputs": [
        {
          "output_type": "execute_result",
          "data": {
            "text/plain": [
              "(12, 2)"
            ]
          },
          "metadata": {},
          "execution_count": 4
        }
      ]
    },
    {
      "cell_type": "code",
      "execution_count": 32,
      "metadata": {
        "colab": {
          "base_uri": "https://localhost:8080/",
          "height": 351
        },
        "id": "zSsQW77aHHV4",
        "outputId": "9dec2a07-0863-466d-923c-92607d938c13"
      },
      "outputs": [
        {
          "output_type": "error",
          "ename": "AttributeError",
          "evalue": "ignored",
          "traceback": [
            "\u001b[0;31m---------------------------------------------------------------------------\u001b[0m",
            "\u001b[0;31mAttributeError\u001b[0m                            Traceback (most recent call last)",
            "\u001b[0;32m<ipython-input-32-81ca258d0ee3>\u001b[0m in \u001b[0;36m<cell line: 217>\u001b[0;34m()\u001b[0m\n\u001b[1;32m    215\u001b[0m \u001b[0mmodel_gen\u001b[0m\u001b[0;34m=\u001b[0m\u001b[0mdefine_generator\u001b[0m\u001b[0;34m(\u001b[0m\u001b[0mlatent_dim\u001b[0m\u001b[0;34m,\u001b[0m \u001b[0mn_outputs\u001b[0m\u001b[0;34m=\u001b[0m\u001b[0mLENGTH_INPUT\u001b[0m\u001b[0;34m)\u001b[0m\u001b[0;34m\u001b[0m\u001b[0;34m\u001b[0m\u001b[0m\n\u001b[1;32m    216\u001b[0m \u001b[0mmodel_con\u001b[0m\u001b[0;34m=\u001b[0m\u001b[0mdefine_condion\u001b[0m\u001b[0;34m(\u001b[0m\u001b[0mn_feature\u001b[0m\u001b[0;34m=\u001b[0m\u001b[0;36m1\u001b[0m\u001b[0;34m,\u001b[0m\u001b[0mn_output\u001b[0m\u001b[0;34m=\u001b[0m\u001b[0;36m12\u001b[0m\u001b[0;34m)\u001b[0m\u001b[0;34m\u001b[0m\u001b[0;34m\u001b[0m\u001b[0m\n\u001b[0;32m--> 217\u001b[0;31m \u001b[0mgenerator\u001b[0m \u001b[0;34m=\u001b[0m \u001b[0mdefine_gen_com\u001b[0m\u001b[0;34m(\u001b[0m\u001b[0mmodel_con\u001b[0m\u001b[0;34m,\u001b[0m \u001b[0mmodel_gen\u001b[0m\u001b[0;34m)\u001b[0m\u001b[0;34m\u001b[0m\u001b[0;34m\u001b[0m\u001b[0m\n\u001b[0m\u001b[1;32m    218\u001b[0m \u001b[0;34m\u001b[0m\u001b[0m\n\u001b[1;32m    219\u001b[0m \u001b[0;31m# create the gan\u001b[0m\u001b[0;34m\u001b[0m\u001b[0;34m\u001b[0m\u001b[0m\n",
            "\u001b[0;32m<ipython-input-32-81ca258d0ee3>\u001b[0m in \u001b[0;36mdefine_gen_com\u001b[0;34m(model_con, model_gen, n_outputs)\u001b[0m\n\u001b[1;32m     60\u001b[0m     \u001b[0mconcatenated\u001b[0m \u001b[0;34m=\u001b[0m \u001b[0mConcatenate\u001b[0m\u001b[0;34m(\u001b[0m\u001b[0;34m)\u001b[0m\u001b[0;34m(\u001b[0m\u001b[0;34m[\u001b[0m\u001b[0mmodelcon_output\u001b[0m\u001b[0;34m,\u001b[0m \u001b[0mmodel_gen_output\u001b[0m\u001b[0;34m]\u001b[0m\u001b[0;34m)\u001b[0m\u001b[0;34m\u001b[0m\u001b[0;34m\u001b[0m\u001b[0m\n\u001b[1;32m     61\u001b[0m     \u001b[0mdiscriminator_output\u001b[0m \u001b[0;34m=\u001b[0m \u001b[0mdiscriminator\u001b[0m\u001b[0;34m(\u001b[0m\u001b[0mconcatenated\u001b[0m\u001b[0;34m)\u001b[0m\u001b[0;34m\u001b[0m\u001b[0;34m\u001b[0m\u001b[0m\n\u001b[0;32m---> 62\u001b[0;31m     \u001b[0minputs\u001b[0m \u001b[0;34m=\u001b[0m \u001b[0;34m[\u001b[0m\u001b[0mgenerator\u001b[0m\u001b[0;34m.\u001b[0m\u001b[0minput\u001b[0m\u001b[0;34m,\u001b[0m\u001b[0mmodel_con\u001b[0m\u001b[0;34m.\u001b[0m\u001b[0minput\u001b[0m\u001b[0;34m]\u001b[0m  \u001b[0;31m# Generator input and conditional data\u001b[0m\u001b[0;34m\u001b[0m\u001b[0;34m\u001b[0m\u001b[0m\n\u001b[0m\u001b[1;32m     63\u001b[0m \u001b[0;34m\u001b[0m\u001b[0m\n\u001b[1;32m     64\u001b[0m     \u001b[0;31m# Create the GAN model\u001b[0m\u001b[0;34m\u001b[0m\u001b[0;34m\u001b[0m\u001b[0m\n",
            "\u001b[0;31mAttributeError\u001b[0m: 'NoneType' object has no attribute 'input'"
          ]
        }
      ],
      "source": [
        "# train a generative adversarial network on a one-dimensional function\n",
        "from numpy import hstack\n",
        "import numpy as np\n",
        "from numpy import zeros\n",
        "from numpy import ones\n",
        "from numpy.random import rand\n",
        "from numpy.random import randn\n",
        "from keras.models import Sequential\n",
        "from keras import Input\n",
        "from keras.layers import Dense,LSTM,Concatenate ,Flatten\n",
        "from matplotlib import pyplot\n",
        "import matplotlib.pyplot as plt\n",
        "from tensorflow.keras.models import Model\n",
        "\n",
        "\n",
        "LENGTH_INPUT_real = x_data.shape[1]\n",
        "LENGTH_INPUT =x_data.shape[1]\n",
        "\n",
        "# define the standalone discriminator model\n",
        "def define_discriminator(n_inputs=LENGTH_INPUT_real):\n",
        "    model = Sequential()\n",
        "    model.add(Input(shape=(n_inputs, 3)))\n",
        "    model.add(LSTM(100))\n",
        "    model.add(Dense(50, activation='relu'))\n",
        "    model.add(Dense(1, activation='sigmoid'))\n",
        "    # compile model\n",
        "    model.compile(loss='binary_crossentropy', optimizer='adam', metrics=['accuracy'])\n",
        "    return model\n",
        "\n",
        "def define_condion(n_feature,n_output):\n",
        "    model = Sequential()\n",
        "    model.add(Input(shape=(n_feature)))\n",
        "    model.add(Dense(100, activation='relu'))\n",
        "    model.add(Dense(50, activation='relu'))\n",
        "    model.add(Dense(n_output*n_feature, activation='sigmoid'))\n",
        "    model.add(Reshape((n_output, 1))) # reshape\n",
        "    return model\n",
        "\n",
        "    # compile model\n",
        "    model.compile(loss='binary_crossentropy', optimizer='adam', metrics=['accuracy'])\n",
        "    return model\n",
        "# define the standalone generator model\n",
        "def define_generator(latent_dim, n_outputs=LENGTH_INPUT):\n",
        "    model = Sequential()\n",
        "    model.add(Input(shape=(latent_dim, 2)))\n",
        "    model.add(LSTM(100))\n",
        "    model.add(Dense(n_outputs*2, activation='linear'))\n",
        "    model.add(Reshape((n_outputs, 2))) # reshape\n",
        "    model.compile(loss='binary_crossentropy', optimizer='adam', metrics=['mean_absolute_error'])\n",
        "\n",
        "    return model\n",
        "def define_gen_com(model_con, model_gen,n_outputs=12):\n",
        "\n",
        "    # Connect the generator and discriminator\n",
        "    modelcon_output = model_con.output\n",
        "    model_gen_input=model_gen.input\n",
        "    model_gen_output=model_gen.output\n",
        "\n",
        "    # Use the functional API to concatenate the conditional data and the generator output\n",
        "    concatenated = Concatenate()([modelcon_output, model_gen_output])\n",
        "    discriminator_output = discriminator(concatenated)\n",
        "    inputs = [generator.input,model_con.input]  # Generator input and conditional data\n",
        "\n",
        "    # Create the GAN model\n",
        "    # Use a list to combine the generator input and the conditional data\n",
        "    inputs = [model_gen_input,model_con.output]  # Generator input and conditional data\n",
        "    outputs = discriminator_output\n",
        "    #model part\n",
        "    concatenated = Concatenate()([modelcon_output, model_gen_output])\n",
        "    modelc=Dense(50, activation='linear')(concatenated)\n",
        "    modelc=Flatten()(modelc)\n",
        "    modelc= Dense(n_outputs*2, activation='linear')(modelc)\n",
        "    modelc=Reshape((n_outputs, 2))(modelc) # reshape\n",
        "\n",
        "    model = Model(inputs=inputs, outputs=modelc)\n",
        "    model.compile(loss='binary_crossentropy', optimizer='adam')\n",
        "# define the combined generator and discriminator model, for updating the generator\n",
        "\n",
        "\n",
        "def combind_model(dense_model,cnn_model,y_train):\n",
        "  combined_input_dense = dense_model.output\n",
        "  combined_input_cnn = cnn_model.output\n",
        "  combined_input_LSTM = LSTM_model.output\n",
        "  combined_input = concatenate([combined_input_cnn,combined_input_dense])\n",
        "  combined_output = Dense(y_train.shape[1], activation='linear')(combined_input)\n",
        "  combined_model = Model(inputs=[cnn_model.input,dense_model.input], outputs=combined_output)\n",
        "  return combined_model\n",
        "\n",
        "def define_gan(generator, discriminator):\n",
        "    # Make weights in the discriminator not trainable\n",
        "    discriminator.trainable = False\n",
        "\n",
        "    # Connect the generator and discriminator\n",
        "    generator_output = generator.output\n",
        "    #con_data = generator.input[1]  # Conditional data input\n",
        "\n",
        "    # Use the functional API to concatenate the conditional data and the generator output\n",
        "    concatenated = Concatenate()([con_data, generator_output])\n",
        "    discriminator_output = discriminator(concatenated)\n",
        "\n",
        "    # Create the GAN model\n",
        "    # Use a list to combine the generator input and the conditional data\n",
        "    inputs = [generator.input]  # Generator input and conditional data\n",
        "    outputs = discriminator_output\n",
        "    model = Model(inputs=inputs, outputs=outputs)\n",
        "    model.compile(loss='binary_crossentropy', optimizer='adam')\n",
        "\n",
        "    return model\n",
        "\n",
        "# generate n real samples with class labels\n",
        "def generate_real_samples(n):\n",
        "    amps = np.arange(0.1,10,0.1)\n",
        "    bias = np.arange(0.1,10,0.1)\n",
        "    freqs = np.linspace(1,2,1000)\n",
        "    X2 = np.linspace(-5,5,LENGTH_INPUT)\n",
        "    X1 = []\n",
        "    for x in range(n):\n",
        "        noise = np.random.normal(size=len(X2))\n",
        "        X1.append(np.random.choice(amps)*np.sin(X2*np.random.choice(freqs))+np.random.choice(bias)+0.3*noise)\n",
        "    X1 = np.array(X1).reshape(n, LENGTH_INPUT)\n",
        "    # generate class labels\n",
        "    y = ones((n, 1))\n",
        "    return X1, y\n",
        "def gen_conditon(n_input,con):\n",
        "    x_con=np.zeros((1,12,con.shape[0]))\n",
        "    x_con[0,:,0]=.2\n",
        "\n",
        "    return x_con\n",
        "def generate_latent_points_n(latent_dim, n):\n",
        "    # generate points in the latent space\n",
        "    x_input1 = randn(latent_dim)\n",
        "    x_input1=np.reshape(x_input1,(1,latent_dim))\n",
        "    #x_input = x_input.reshape(n, latent_dim)\n",
        "    return x_input1\n",
        "\n",
        "def define_generator_n(latent_dim, n_outputs=LENGTH_INPUT):\n",
        "    model = Sequential()\n",
        "    model.add(Input(shape=(latent_dim)))\n",
        "    model.add(Dense(300, activation='sigmoid'))\n",
        "    model.add(Dense(100, activation='sigmoid'))\n",
        "    model.add(Dense(50, activation='sigmoid'))\n",
        "    model.add(Dense(n_outputs*2, activation='linear'))\n",
        "    model.add(Reshape((n_outputs, 2))) # reshape\n",
        "    model.compile(loss='binary_crossentropy', optimizer='adam', metrics=['mean_absolute_error'])\n",
        "\n",
        "    return model\n",
        "\n",
        "# generate points in latent space as input for the generator\n",
        "def generate_latent_points(latent_dim, n):\n",
        "    # generate points in the latent space\n",
        "    x_input1 = randn(latent_dim * n)\n",
        "    x_input1 = x_input1.reshape(n, latent_dim)\n",
        "       # reshape into a batch of inputs for the network\n",
        "    x_input2=randn(latent_dim * n)\n",
        "    x_input2 = x_input2.reshape(n, latent_dim)\n",
        "    x_input=np.zeros((n,latent_dim,2))\n",
        "    x_input[:,:,0]=x_input1\n",
        "    x_input[:,:,1]=x_input2\n",
        "\n",
        "    #x_input = x_input.reshape(n, latent_dim)\n",
        "    return x_input\n",
        "\n",
        "# use the generator to generate n fake examples, with class labels\n",
        "def generate_fake_samples(generator, latent_dim, n):\n",
        "    # generate points in latent space\n",
        "    x_input = generate_latent_points_n(latent_dim, n)\n",
        "    # predict outputs\n",
        "    X = generator.predict(x_input, verbose=0)\n",
        "    X=np.concatenate((X, con_data),axis=2)\n",
        "\n",
        "    # create class labels\n",
        "    y = zeros((n, 1))\n",
        "    #print(x_input)\n",
        "    return X, y\n",
        "\n",
        "\n",
        "# train the generator and discriminator\n",
        "def train(g_model, d_model, gan_model, latent_dim, n_epochs=10000, n_batch=1, n_eval=200):\n",
        "    # determine half the size of one batch, for updating the discriminator\n",
        "    half_batch = int(n_batch/2)\n",
        "    # manually enumerate epochs\n",
        "    for i in range(n_epochs):\n",
        "        # prepare real samples\n",
        "        #x_real, y_real = generate_real_samples(half_batch)\n",
        "        # prepare fake examples\n",
        "        x_fake, y_fake = generate_fake_samples(g_model, latent_dim, n_batch)\n",
        "        # update discriminator\n",
        "        d_model.train_on_batch(x_data, y_data)\n",
        "        d_model.train_on_batch(x_fake, y_fake)\n",
        "        # prepare points in latent space as input for the generator\n",
        "        x_gan = generate_latent_points_n(latent_dim, n_batch)\n",
        "        # create inverted labels for the fake samples\n",
        "        y_gan = ones((n_batch, 1))\n",
        "        # update the generator via the discriminator's error\n",
        "        gan_model.train_on_batch(x_gan, y_gan)\n",
        "        # evaluate the model every n_eval epochs\n",
        "        if (i+1) % n_eval == 0:\n",
        "            plt.title('Number of epochs = %i'%(i+1))\n",
        "            pred_data = generate_fake_samples(generator,latent_dim,latent_dim)[0]\n",
        "            #real_data  = generate_real_samples(latent_dim)[0]\n",
        "            real_data= x_data_real\n",
        "            plt.plot(pred_data[0,:,0],pred_data[0,:,1],'.',label='Random Fake Sample',color='firebrick')\n",
        "            plt.scatter(x_data_real[:,0],x_data_real[:,1],label = 'Random Real Sample',color='navy')\n",
        "            plt.legend(fontsize=10)\n",
        "            plt.show()\n",
        "# size of the latent space\n",
        "latent_dim = 100\n",
        "#feature\n",
        "con=np.array([5])\n",
        "con_data=gen_conditon(n_input=1,con=con)\n",
        "\n",
        "# create the discriminator\n",
        "discriminator = define_discriminator()\n",
        "# create the generator\n",
        "model_gen=define_generator(latent_dim, n_outputs=LENGTH_INPUT)\n",
        "model_con=define_condion(n_feature=1,n_output=12)\n",
        "generator = define_gen_com(model_con, model_gen)\n",
        "\n",
        "# create the gan\n",
        "gan_model = define_gan(generator, discriminator)\n",
        "# train model\n",
        "train(generator, discriminator, gan_model, latent_dim)"
      ]
    },
    {
      "cell_type": "code",
      "source": [
        "# plot and save your model\n",
        "import tensorflow as tf\n",
        "gan_model.summary()\n",
        "img_file = 'model.png'\n",
        "tf.keras.utils.plot_model(gan_model, to_file=img_file, show_shapes=True, show_layer_names=True)\n"
      ],
      "metadata": {
        "colab": {
          "base_uri": "https://localhost:8080/",
          "height": 1000
        },
        "id": "rocy2Ytqwnsv",
        "outputId": "2491b000-7322-4bb5-be71-ecd6b2b4c424"
      },
      "execution_count": 67,
      "outputs": [
        {
          "output_type": "stream",
          "name": "stdout",
          "text": [
            "Model: \"model_5\"\n",
            "_________________________________________________________________\n",
            " Layer (type)                Output Shape              Param #   \n",
            "=================================================================\n",
            " input_64 (InputLayer)       [(None, 100)]             0         \n",
            "                                                                 \n",
            " dense_165 (Dense)           (None, 300)               30300     \n",
            "                                                                 \n",
            " dense_166 (Dense)           (None, 100)               30100     \n",
            "                                                                 \n",
            " dense_167 (Dense)           (None, 50)                5050      \n",
            "                                                                 \n",
            " dense_168 (Dense)           (None, 24)                1224      \n",
            "                                                                 \n",
            " reshape_29 (Reshape)        (None, 12, 2)             0         \n",
            "                                                                 \n",
            " concatenate_15 (Concatenate  (1, 12, 3)               0         \n",
            " )                                                               \n",
            "                                                                 \n",
            " sequential_81 (Sequential)  (None, 1)                 46701     \n",
            "                                                                 \n",
            "=================================================================\n",
            "Total params: 113,375\n",
            "Trainable params: 66,674\n",
            "Non-trainable params: 46,701\n",
            "_________________________________________________________________\n"
          ]
        },
        {
          "output_type": "execute_result",
          "data": {
            "image/png": "[encoded data removed]",
            "text/plain": [
              "<IPython.core.display.Image object>"
            ]
          },
          "metadata": {},
          "execution_count": 67
        }
      ]
    },
    {
      "cell_type": "code",
      "source": [
        "generator.summary()"
      ],
      "metadata": {
        "colab": {
          "base_uri": "https://localhost:8080/"
        },
        "id": "F16Hh9YyduK7",
        "outputId": "80da3d93-9853-414c-a7bd-2ff1a4da788f"
      },
      "execution_count": 68,
      "outputs": [
        {
          "output_type": "stream",
          "name": "stdout",
          "text": [
            "Model: \"sequential_82\"\n",
            "_________________________________________________________________\n",
            " Layer (type)                Output Shape              Param #   \n",
            "=================================================================\n",
            " dense_165 (Dense)           (None, 300)               30300     \n",
            "                                                                 \n",
            " dense_166 (Dense)           (None, 100)               30100     \n",
            "                                                                 \n",
            " dense_167 (Dense)           (None, 50)                5050      \n",
            "                                                                 \n",
            " dense_168 (Dense)           (None, 24)                1224      \n",
            "                                                                 \n",
            " reshape_29 (Reshape)        (None, 12, 2)             0         \n",
            "                                                                 \n",
            "=================================================================\n",
            "Total params: 66,674\n",
            "Trainable params: 66,674\n",
            "Non-trainable params: 0\n",
            "_________________________________________________________________\n"
          ]
        }
      ]
    },
    {
      "cell_type": "code",
      "source": [
        "discriminator.summary()"
      ],
      "metadata": {
        "colab": {
          "base_uri": "https://localhost:8080/"
        },
        "id": "pbwKf_ssee5l",
        "outputId": "5a64e357-df63-4509-b865-8238a9a9bdb7"
      },
      "execution_count": 12,
      "outputs": [
        {
          "output_type": "stream",
          "name": "stdout",
          "text": [
            "Model: \"sequential_6\"\n",
            "_________________________________________________________________\n",
            " Layer (type)                Output Shape              Param #   \n",
            "=================================================================\n",
            " lstm_4 (LSTM)               (None, 100)               41200     \n",
            "                                                                 \n",
            " dense_6 (Dense)             (None, 50)                5050      \n",
            "                                                                 \n",
            " dense_7 (Dense)             (None, 1)                 51        \n",
            "                                                                 \n",
            "=================================================================\n",
            "Total params: 46,301\n",
            "Trainable params: 0\n",
            "Non-trainable params: 46,301\n",
            "_________________________________________________________________\n"
          ]
        }
      ]
    },
    {
      "cell_type": "code",
      "source": [
        "generator = define_generator(latent_dim)\n",
        "x,y=generate_fake_samples(generator, latent_dim, 20)\n"
      ],
      "metadata": {
        "id": "x_L0_9f9gmQr"
      },
      "execution_count": 57,
      "outputs": []
    },
    {
      "cell_type": "code",
      "source": [
        "x.shape"
      ],
      "metadata": {
        "colab": {
          "base_uri": "https://localhost:8080/"
        },
        "id": "xYcgOEODrRum",
        "outputId": "5d706aab-ce73-4641-abd5-0c7f7cdd8d6c"
      },
      "execution_count": 58,
      "outputs": [
        {
          "output_type": "execute_result",
          "data": {
            "text/plain": [
              "(20, 12, 2)"
            ]
          },
          "metadata": {},
          "execution_count": 58
        }
      ]
    },
    {
      "cell_type": "code",
      "source": [
        "pred_data=generate_fake_samples(generator,latent_dim,latent_dim)[0]\n",
        "plt.plot(pred_data[:,0],pred_data[:,1],'.',label='Random Fake Sample',color='firebrick')\n"
      ],
      "metadata": {
        "colab": {
          "base_uri": "https://localhost:8080/",
          "height": 448
        },
        "id": "dBTweiJqQorh",
        "outputId": "2a076fb6-a56d-426b-f801-1551cfdd60dd"
      },
      "execution_count": null,
      "outputs": [
        {
          "output_type": "execute_result",
          "data": {
            "text/plain": [
              "[<matplotlib.lines.Line2D at 0x7fe075d41db0>]"
            ]
          },
          "metadata": {},
          "execution_count": 93
        },
        {
          "output_type": "display_data",
          "data": {
            "text/plain": [
              "<Figure size 640x480 with 1 Axes>"
            ],
            "image/png": "[encoded data removed]"
          },
          "metadata": {}
        }
      ]
    },
    {
      "cell_type": "code",
      "source": [
        "generate_latent_points(latent_dim, n)"
      ],
      "metadata": {
        "colab": {
          "base_uri": "https://localhost:8080/"
        },
        "id": "uvwLM6cqRKvz",
        "outputId": "9e12a009-800f-4388-c04c-58b655cb04a5"
      },
      "execution_count": null,
      "outputs": [
        {
          "output_type": "execute_result",
          "data": {
            "text/plain": [
              "array([[ 0.7088612 ,  1.37253496, -0.84726362, ...,  0.4814617 ,\n",
              "        -0.86111342,  0.34100038],\n",
              "       [ 0.92985551,  0.51127476,  1.08520828, ...,  0.88065917,\n",
              "         1.53348331, -0.64215392],\n",
              "       [-0.84949204,  0.22900586,  0.61246002, ..., -0.03012969,\n",
              "         0.60877503,  0.63813142],\n",
              "       ...,\n",
              "       [-1.03441023, -0.99259682,  0.78467267, ...,  1.07196495,\n",
              "         1.26122114,  0.50098934],\n",
              "       [-0.32145052, -1.40190046, -1.0057025 , ...,  0.26421188,\n",
              "         1.22943472, -0.42918383],\n",
              "       [-0.48487604, -0.31791122,  2.22241101, ...,  0.82256294,\n",
              "         1.12801868, -0.7759051 ]])"
            ]
          },
          "metadata": {},
          "execution_count": 10
        }
      ]
    },
    {
      "cell_type": "code",
      "source": [
        "\n",
        "#try this demo with keras==2.2.4 and tensorflow==1.13.1:\n",
        "\n",
        "from keras import Sequential, Model\n",
        "from keras.layers import Embedding, GlobalAveragePooling1D, Dense, concatenate\n",
        "import numpy as np\n",
        "\n",
        "model1 = Sequential()\n",
        "model1.add(Embedding(20, 10, trainable=True))\n",
        "model1.add(GlobalAveragePooling1D())\n",
        "model1.add(Dense(1, activation='sigmoid'))\n",
        "model2 = Sequential()\n",
        "model2.add(Embedding(20, 10, trainable=True))\n",
        "model2.add(GlobalAveragePooling1D())\n",
        "model2.add(Dense(1, activation='sigmoid'))\n",
        "\n",
        "model_concat = concatenate([model1.output, model2.output], axis=-1)\n",
        "model_concat = Dense(1, activation='softmax')(model_concat)\n",
        "model = Model(inputs=[model1.input, model2.input], outputs=model_concat)\n",
        "\n",
        "model.compile(loss='binary_crossentropy', optimizer='adam')\n",
        "\n",
        "X_train_1 = np.random.randint(0, 20, (10000, 256))\n",
        "X_train_2 = np.random.randint(0, 20, (10000, 256))\n",
        "Y_train = np.random.randint(0, 2, 10000)\n",
        "\n",
        "model.fit([X_train_1, X_train_2], Y_train, batch_size=1000, epochs=200,\n",
        "              verbose=True)"
      ],
      "metadata": {
        "id": "t6Bz4PidksRb"
      },
      "execution_count": null,
      "outputs": []
    }
  ],
  "metadata": {
    "colab": {
      "provenance": [],
      "authorship_tag": "ABX9TyP97j65KpchLwPRrZcsohH5",
      "include_colab_link": true
    },
    "kernelspec": {
      "display_name": "Python 3",
      "name": "python3"
    },
    "language_info": {
      "name": "python"
    }
  },
  "nbformat": 4,
  "nbformat_minor": 0
}